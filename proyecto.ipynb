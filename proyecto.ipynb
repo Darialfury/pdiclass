{
 "metadata": {
  "name": "",
  "signature": "sha256:407b87fd6481771ccfc7512e08725a71b8ed772df21bf05907e0a176456e4f53"
 },
 "nbformat": 3,
 "nbformat_minor": 0,
 "worksheets": [
  {
   "cells": [
    {
     "cell_type": "heading",
     "level": 1,
     "metadata": {},
     "source": [
      "Proyect object recognition"
     ]
    },
    {
     "cell_type": "code",
     "collapsed": false,
     "input": [
      "# set imports\n",
      "import cv2\n",
      "import cPickle as pickle\n",
      "import matplotlib.pyplot as plt\n",
      "import numpy as np\n",
      "import os\n",
      "import scipy.io as sio\n",
      "import matplotlib.pyplot as plt\n",
      "import multiprocessing\n",
      "import random\n",
      "\n",
      "\n",
      "from multiprocessing import Pool\n",
      "from sklearn.metrics import confusion_matrix\n",
      "from sklearn.cluster import KMeans\n",
      "from sklearn.multiclass import OneVsRestClassifier\n",
      "from sklearn.cross_validation import train_test_split\n",
      "from sklearn import svm\n",
      "\n",
      "\n",
      "%matplotlib inline"
     ],
     "language": "python",
     "metadata": {},
     "outputs": [],
     "prompt_number": 1
    },
    {
     "cell_type": "code",
     "collapsed": false,
     "input": [
      "#Functions to use\n",
      "\n",
      "# get all the lines of txt file and save them in a list\n",
      "def get_items_txt(txt_name):\n",
      "    lines_txt = open(txt_name, 'r')\n",
      "    list_text = []\n",
      "    for line in lines_txt:\n",
      "        newline = line.split('\\n')[0]\n",
      "        list_text.append(newline)\n",
      "    return list_text\n",
      "\n",
      "#save and object\n",
      "def save_object(obj, filename):\n",
      "    with open(filename, 'wb') as output:\n",
      "        pickle.dump(obj, output, -1)\n",
      "\n",
      "#load an object\n",
      "def load_object(filename):\n",
      "    with open(filename, 'rb') as input:\n",
      "        obj = pickle.load(input)\n",
      "    return obj\n",
      "\n",
      "def feature_quantization((file_mat, path, kmeans_object)):\n",
      "    folder = file_mat.split('/')[2]\n",
      "    name = file_mat.split('/')[3]\n",
      "    path_fq = path + folder + '/'\n",
      "    if not os.path.exists(path_fq):\n",
      "        os.makedirs(path_fq)\n",
      "    filename = path_fq + 'feature_' + name\n",
      "    var = sio.loadmat(file_mat)\n",
      "    array_to_stack = var['s_desc']\n",
      "    features = kmeans_object.predict(array_to_stack)\n",
      "    visual_words, _ = np.histogram(features, bins = k_clusters, range=(0, k_clusters -1), normed = True)\n",
      "    sio.savemat(filename, {'bow': visual_words})"
     ],
     "language": "python",
     "metadata": {},
     "outputs": [],
     "prompt_number": 2
    },
    {
     "cell_type": "heading",
     "level": 3,
     "metadata": {},
     "source": [
      "Features extraction"
     ]
    },
    {
     "cell_type": "markdown",
     "metadata": {},
     "source": [
      "This section compute sift descriptor with each image of the dataset. For each image exists a descriptor in a folder called \"images_sift\""
     ]
    },
    {
     "cell_type": "code",
     "collapsed": false,
     "input": [
      "# Creating path for storing sift features\n",
      "scale =300\n",
      "newpath = r'./images_sift_' + str(scale) + '/'\n",
      "#scale='original'\n",
      "if not os.path.exists(newpath): os.makedirs(newpath)"
     ],
     "language": "python",
     "metadata": {},
     "outputs": [],
     "prompt_number": 3
    },
    {
     "cell_type": "code",
     "collapsed": false,
     "input": [
      "# save in a list all folders of the dataset\n",
      "path_dataset = './resize_images_dataset_300/'\n",
      "lstring_folders = os.listdir(path_dataset)\n"
     ],
     "language": "python",
     "metadata": {},
     "outputs": [],
     "prompt_number": 5
    },
    {
     "cell_type": "code",
     "collapsed": false,
     "input": [
      "#feature extraction of all images\n",
      "\n",
      "#search for each folder of the dataset\n",
      "for folder in lstring_folders:\n",
      "    path_folder = path_dataset + folder + '/'\n",
      "    list_images = os.listdir(path_folder)\n",
      "    list_images.sort()\n",
      "    path2_folder = newpath + folder\n",
      "    if not os.path.exists(path2_folder):\n",
      "        os.makedirs(path2_folder)\n",
      "        \n",
      "        # search for each image of the folder and compute sift\n",
      "        for image in list_images:\n",
      "            path_image_load = path_folder + '/' + image\n",
      "            x = cv2.imread(path_image_load)\n",
      "            y = cv2.cvtColor(x,cv2.COLOR_BGR2GRAY)\n",
      "            sift = cv2.SIFT()\n",
      "            kp, des = sift.detectAndCompute(y,None)\n",
      "\n",
      "            # If descriptor are none, don't save it\n",
      "            if des is not None:\n",
      "                x2 = str(image.split('.',1)[0])\n",
      "                path2 = path2_folder + '/' + x2 + '.mat'\n",
      "                sio.savemat(path2, {'s_desc': des})\n",
      "    else:\n",
      "        print 'folder ' + str(folder) + ' already exists'"
     ],
     "language": "python",
     "metadata": {},
     "outputs": [],
     "prompt_number": 13
    },
    {
     "cell_type": "heading",
     "level": 3,
     "metadata": {},
     "source": [
      "Clustering with K-means"
     ]
    },
    {
     "cell_type": "markdown",
     "metadata": {},
     "source": [
      "This section compute K-means with a specified k"
     ]
    },
    {
     "cell_type": "code",
     "collapsed": false,
     "input": [
      "k_clusters = 300         # number of groups to cluster all sift features\n",
      "percentage_test = 0.30    # Test data fraction for the system\n",
      "flag = True\n",
      "min_samples =  32\n",
      "samples_train = np.ceil(min_samples*(1 - percentage_test))\n",
      "\n",
      "lstring_folders = os.listdir(path_dataset)\n",
      "\n",
      "experiment_folder = './experiment_' + str(int(percentage_test*100))+ '_c' + str(k_clusters) + '_scale_' + str(scale)\n",
      "path_codebook = experiment_folder + '/code_book.pkl'\n",
      "path_files_train = experiment_folder + '/path_files_train.txt'\n",
      "path_files_test = experiment_folder + '/path_files_test.txt'\n",
      "count_train = 0.0\n",
      "\n",
      "if not os.path.exists(experiment_folder):\n",
      "    os.makedirs(experiment_folder)\n",
      "else:\n",
      "    print 'folder ==> ' + str(experiment_folder) + ' already exists'\n",
      "files_training = []\n",
      "files_test = []"
     ],
     "language": "python",
     "metadata": {},
     "outputs": [
      {
       "output_type": "stream",
       "stream": "stdout",
       "text": [
        "folder ==> ./experiment_30_c300_scale_300 already exists\n"
       ]
      }
     ],
     "prompt_number": 6
    },
    {
     "cell_type": "code",
     "collapsed": false,
     "input": [
      "#split data for training and testing\n",
      "for folder in lstring_folders:\n",
      "    if folder != 'BACKGROUND_Google':\n",
      "        path_folder = newpath + folder + '/'\n",
      "        list_descriptors = os.listdir(path_folder)\n",
      "\n",
      "        # list all files of the class  \n",
      "        files_in_class = []\n",
      "        for descriptor_file in list_descriptors:\n",
      "            path_descriptor_class = path_folder + descriptor_file\n",
      "            files_in_class.append(path_descriptor_class)\n",
      "\n",
      "        #split files of the class\n",
      "        a_train, a_test = train_test_split(files_in_class, train_size = int(samples_train))\n",
      "        files_training.append(a_train)\n",
      "        files_test.append(a_test)\n",
      "    else:\n",
      "        path_folder = newpath + folder + '/'\n",
      "        list_descriptors = os.listdir(path_folder)\n",
      "\n",
      "        # list all files of the class  \n",
      "        files_in_class = []\n",
      "        for descriptor_file in list_descriptors:\n",
      "            path_descriptor_class = path_folder + descriptor_file\n",
      "            files_in_class.append(path_descriptor_class)\n",
      "        files_test.append(files_in_class)"
     ],
     "language": "python",
     "metadata": {},
     "outputs": [],
     "prompt_number": 6
    },
    {
     "cell_type": "code",
     "collapsed": false,
     "input": [
      "#save list of files for training and testing\n",
      "if not os.path.isfile(path_files_train):\n",
      "    thefile = open(path_files_train, 'w')\n",
      "    for classe in files_training:\n",
      "        for file_mat in classe:\n",
      "            count_train += 1.0\n",
      "            thefile.write(\"%s\\n\" % file_mat)\n",
      "    thefile.close()\n",
      "\n",
      "    thefile = open(path_files_test, 'w')\n",
      "    for classe in files_test:\n",
      "        for file_mat in classe:\n",
      "            thefile.write(\"%s\\n\" % file_mat)\n",
      "    thefile.close()\n",
      "else:\n",
      "    print 'list of files created'"
     ],
     "language": "python",
     "metadata": {},
     "outputs": [],
     "prompt_number": 7
    },
    {
     "cell_type": "code",
     "collapsed": false,
     "input": [
      "#compute codebook\n",
      "max_samples = 7900;\n",
      "if not os.path.isfile(path_codebook):\n",
      "    progress = 0.0\n",
      "    index = 0\n",
      "    path_features_to_codebook =  experiment_folder + '/k_groups'\n",
      "    previous_centers = np.empty(shape=[0,128])\n",
      "    list_sift = np.empty(shape=[0,128])\n",
      "\n",
      "    # search for each descriptor of the folder and stack it \n",
      "    for classes in files_training:\n",
      "        temp_sift = np.empty(shape=[0,128])\n",
      "        for descriptor_file in classes:\n",
      "            path_descriptor_load = descriptor_file\n",
      "            #print path_descriptor_load\n",
      "            var = sio.loadmat(path_descriptor_load)\n",
      "            array_to_stack = var['s_desc']\n",
      "            #print array_to_stack\n",
      "            temp_sift = np.vstack([temp_sift, array_to_stack])\n",
      "            progress += 1.0\n",
      "        rows, _ = temp_sift.shape\n",
      "        if max_samples < rows:\n",
      "            definitive_sift = random.sample(temp_sift,max_samples)\n",
      "        else:\n",
      "            definitive_sift = temp_sift\n",
      "        index += 1\n",
      "        list_sift = np.vstack([list_sift, definitive_sift])\n",
      "        print 'stacking...  ' + str(index)+ '  percentage: ' + str((float(progress/count_train))*100) + '%'\n",
      "    k_means = KMeans(init = 'k-means++', n_clusters = k_clusters, n_jobs = -1, n_init = 2, max_iter = 110)\n",
      "    k_means.fit(list_sift)\n",
      "    codebook = k_means\n",
      "    save_object(codebook, path_codebook)\n",
      "    print 'codebook created'\n",
      "else:\n",
      "    print 'Skipping... codebook computation'"
     ],
     "language": "python",
     "metadata": {},
     "outputs": [
      {
       "output_type": "stream",
       "stream": "stdout",
       "text": [
        "stacking...  1  percentage: 0.990099009901%\n",
        "stacking...  2  percentage: 1.9801980198%"
       ]
      },
      {
       "output_type": "stream",
       "stream": "stdout",
       "text": [
        "\n",
        "stacking...  3  percentage: 2.9702970297%"
       ]
      },
      {
       "output_type": "stream",
       "stream": "stdout",
       "text": [
        "\n",
        "stacking...  4  percentage: 3.9603960396%"
       ]
      },
      {
       "output_type": "stream",
       "stream": "stdout",
       "text": [
        "\n",
        "stacking...  5  percentage: 4.9504950495%"
       ]
      },
      {
       "output_type": "stream",
       "stream": "stdout",
       "text": [
        "\n",
        "stacking...  6  percentage: 5.94059405941%"
       ]
      },
      {
       "output_type": "stream",
       "stream": "stdout",
       "text": [
        "\n",
        "stacking...  7  percentage: 6.93069306931%"
       ]
      },
      {
       "output_type": "stream",
       "stream": "stdout",
       "text": [
        "\n",
        "stacking...  8  percentage: 7.92079207921%"
       ]
      },
      {
       "output_type": "stream",
       "stream": "stdout",
       "text": [
        "\n",
        "stacking...  9  percentage: 8.91089108911%"
       ]
      },
      {
       "output_type": "stream",
       "stream": "stdout",
       "text": [
        "\n",
        "stacking...  10  percentage: 9.90099009901%"
       ]
      },
      {
       "output_type": "stream",
       "stream": "stdout",
       "text": [
        "\n",
        "stacking...  11  percentage: 10.8910891089%"
       ]
      },
      {
       "output_type": "stream",
       "stream": "stdout",
       "text": [
        "\n",
        "stacking...  12  percentage: 11.8811881188%"
       ]
      },
      {
       "output_type": "stream",
       "stream": "stdout",
       "text": [
        "\n",
        "stacking...  13  percentage: 12.8712871287%"
       ]
      },
      {
       "output_type": "stream",
       "stream": "stdout",
       "text": [
        "\n",
        "stacking...  14  percentage: 13.8613861386%"
       ]
      },
      {
       "output_type": "stream",
       "stream": "stdout",
       "text": [
        "\n",
        "stacking...  15  percentage: 14.8514851485%"
       ]
      },
      {
       "output_type": "stream",
       "stream": "stdout",
       "text": [
        "\n",
        "stacking...  16  percentage: 15.8415841584%"
       ]
      },
      {
       "output_type": "stream",
       "stream": "stdout",
       "text": [
        "\n",
        "stacking...  17  percentage: 16.8316831683%"
       ]
      },
      {
       "output_type": "stream",
       "stream": "stdout",
       "text": [
        "\n",
        "stacking...  18  percentage: 17.8217821782%"
       ]
      },
      {
       "output_type": "stream",
       "stream": "stdout",
       "text": [
        "\n",
        "stacking...  19  percentage: 18.8118811881%"
       ]
      },
      {
       "output_type": "stream",
       "stream": "stdout",
       "text": [
        "\n",
        "stacking...  20  percentage: 19.801980198%"
       ]
      },
      {
       "output_type": "stream",
       "stream": "stdout",
       "text": [
        "\n",
        "stacking...  21  percentage: 20.7920792079%"
       ]
      },
      {
       "output_type": "stream",
       "stream": "stdout",
       "text": [
        "\n",
        "stacking...  22  percentage: 21.7821782178%"
       ]
      },
      {
       "output_type": "stream",
       "stream": "stdout",
       "text": [
        "\n",
        "stacking...  23  percentage: 22.7722772277%"
       ]
      },
      {
       "output_type": "stream",
       "stream": "stdout",
       "text": [
        "\n",
        "stacking...  24  percentage: 23.7623762376%"
       ]
      },
      {
       "output_type": "stream",
       "stream": "stdout",
       "text": [
        "\n",
        "stacking...  25  percentage: 24.7524752475%"
       ]
      },
      {
       "output_type": "stream",
       "stream": "stdout",
       "text": [
        "\n",
        "stacking...  26  percentage: 25.7425742574%"
       ]
      },
      {
       "output_type": "stream",
       "stream": "stdout",
       "text": [
        "\n",
        "stacking...  27  percentage: 26.7326732673%"
       ]
      },
      {
       "output_type": "stream",
       "stream": "stdout",
       "text": [
        "\n",
        "stacking...  28  percentage: 27.7227722772%"
       ]
      },
      {
       "output_type": "stream",
       "stream": "stdout",
       "text": [
        "\n",
        "stacking...  29  percentage: 28.7128712871%"
       ]
      },
      {
       "output_type": "stream",
       "stream": "stdout",
       "text": [
        "\n",
        "stacking...  30  percentage: 29.702970297%"
       ]
      },
      {
       "output_type": "stream",
       "stream": "stdout",
       "text": [
        "\n",
        "stacking...  31  percentage: 30.6930693069%"
       ]
      },
      {
       "output_type": "stream",
       "stream": "stdout",
       "text": [
        "\n",
        "stacking...  32  percentage: 31.6831683168%"
       ]
      },
      {
       "output_type": "stream",
       "stream": "stdout",
       "text": [
        "\n",
        "stacking...  33  percentage: 32.6732673267%"
       ]
      },
      {
       "output_type": "stream",
       "stream": "stdout",
       "text": [
        "\n",
        "stacking...  34  percentage: 33.6633663366%"
       ]
      },
      {
       "output_type": "stream",
       "stream": "stdout",
       "text": [
        "\n",
        "stacking...  35  percentage: 34.6534653465%"
       ]
      },
      {
       "output_type": "stream",
       "stream": "stdout",
       "text": [
        "\n",
        "stacking...  36  percentage: 35.6435643564%"
       ]
      },
      {
       "output_type": "stream",
       "stream": "stdout",
       "text": [
        "\n",
        "stacking...  37  percentage: 36.6336633663%"
       ]
      },
      {
       "output_type": "stream",
       "stream": "stdout",
       "text": [
        "\n",
        "stacking...  38  percentage: 37.6237623762%"
       ]
      },
      {
       "output_type": "stream",
       "stream": "stdout",
       "text": [
        "\n",
        "stacking...  39  percentage: 38.6138613861%"
       ]
      },
      {
       "output_type": "stream",
       "stream": "stdout",
       "text": [
        "\n",
        "stacking...  40  percentage: 39.603960396%"
       ]
      },
      {
       "output_type": "stream",
       "stream": "stdout",
       "text": [
        "\n",
        "stacking...  41  percentage: 40.5940594059%"
       ]
      },
      {
       "output_type": "stream",
       "stream": "stdout",
       "text": [
        "\n",
        "stacking...  42  percentage: 41.5841584158%"
       ]
      },
      {
       "output_type": "stream",
       "stream": "stdout",
       "text": [
        "\n",
        "stacking...  43  percentage: 42.5742574257%"
       ]
      },
      {
       "output_type": "stream",
       "stream": "stdout",
       "text": [
        "\n",
        "stacking...  44  percentage: 43.5643564356%"
       ]
      },
      {
       "output_type": "stream",
       "stream": "stdout",
       "text": [
        "\n",
        "stacking...  45  percentage: 44.5544554455%"
       ]
      },
      {
       "output_type": "stream",
       "stream": "stdout",
       "text": [
        "\n",
        "stacking...  46  percentage: 45.5445544554%"
       ]
      },
      {
       "output_type": "stream",
       "stream": "stdout",
       "text": [
        "\n",
        "stacking...  47  percentage: 46.5346534653%"
       ]
      },
      {
       "output_type": "stream",
       "stream": "stdout",
       "text": [
        "\n",
        "stacking...  48  percentage: 47.5247524752%"
       ]
      },
      {
       "output_type": "stream",
       "stream": "stdout",
       "text": [
        "\n",
        "stacking...  49  percentage: 48.5148514851%"
       ]
      },
      {
       "output_type": "stream",
       "stream": "stdout",
       "text": [
        "\n",
        "stacking...  50  percentage: 49.504950495%"
       ]
      },
      {
       "output_type": "stream",
       "stream": "stdout",
       "text": [
        "\n",
        "stacking...  51  percentage: 50.495049505%"
       ]
      },
      {
       "output_type": "stream",
       "stream": "stdout",
       "text": [
        "\n",
        "stacking...  52  percentage: 51.4851485149%"
       ]
      },
      {
       "output_type": "stream",
       "stream": "stdout",
       "text": [
        "\n",
        "stacking...  53  percentage: 52.4752475248%"
       ]
      },
      {
       "output_type": "stream",
       "stream": "stdout",
       "text": [
        "\n",
        "stacking...  54  percentage: 53.4653465347%"
       ]
      },
      {
       "output_type": "stream",
       "stream": "stdout",
       "text": [
        "\n",
        "stacking...  55  percentage: 54.4554455446%"
       ]
      },
      {
       "output_type": "stream",
       "stream": "stdout",
       "text": [
        "\n",
        "stacking...  56  percentage: 55.4455445545%"
       ]
      },
      {
       "output_type": "stream",
       "stream": "stdout",
       "text": [
        "\n",
        "stacking...  57  percentage: 56.4356435644%"
       ]
      },
      {
       "output_type": "stream",
       "stream": "stdout",
       "text": [
        "\n",
        "stacking...  58  percentage: 57.4257425743%"
       ]
      },
      {
       "output_type": "stream",
       "stream": "stdout",
       "text": [
        "\n",
        "stacking...  59  percentage: 58.4158415842%"
       ]
      },
      {
       "output_type": "stream",
       "stream": "stdout",
       "text": [
        "\n",
        "stacking...  60  percentage: 59.4059405941%"
       ]
      },
      {
       "output_type": "stream",
       "stream": "stdout",
       "text": [
        "\n",
        "stacking...  61  percentage: 60.396039604%"
       ]
      },
      {
       "output_type": "stream",
       "stream": "stdout",
       "text": [
        "\n",
        "stacking...  62  percentage: 61.3861386139%"
       ]
      },
      {
       "output_type": "stream",
       "stream": "stdout",
       "text": [
        "\n",
        "stacking...  63  percentage: 62.3762376238%"
       ]
      },
      {
       "output_type": "stream",
       "stream": "stdout",
       "text": [
        "\n",
        "stacking...  64  percentage: 63.3663366337%"
       ]
      },
      {
       "output_type": "stream",
       "stream": "stdout",
       "text": [
        "\n",
        "stacking...  65  percentage: 64.3564356436%"
       ]
      },
      {
       "output_type": "stream",
       "stream": "stdout",
       "text": [
        "\n",
        "stacking...  66  percentage: 65.3465346535%"
       ]
      },
      {
       "output_type": "stream",
       "stream": "stdout",
       "text": [
        "\n",
        "stacking...  67  percentage: 66.3366336634%"
       ]
      },
      {
       "output_type": "stream",
       "stream": "stdout",
       "text": [
        "\n",
        "stacking...  68  percentage: 67.3267326733%"
       ]
      },
      {
       "output_type": "stream",
       "stream": "stdout",
       "text": [
        "\n",
        "stacking...  69  percentage: 68.3168316832%"
       ]
      },
      {
       "output_type": "stream",
       "stream": "stdout",
       "text": [
        "\n",
        "stacking...  70  percentage: 69.3069306931%"
       ]
      },
      {
       "output_type": "stream",
       "stream": "stdout",
       "text": [
        "\n",
        "stacking...  71  percentage: 70.297029703%"
       ]
      },
      {
       "output_type": "stream",
       "stream": "stdout",
       "text": [
        "\n",
        "stacking...  72  percentage: 71.2871287129%"
       ]
      },
      {
       "output_type": "stream",
       "stream": "stdout",
       "text": [
        "\n",
        "stacking...  73  percentage: 72.2772277228%"
       ]
      },
      {
       "output_type": "stream",
       "stream": "stdout",
       "text": [
        "\n",
        "stacking...  74  percentage: 73.2673267327%"
       ]
      },
      {
       "output_type": "stream",
       "stream": "stdout",
       "text": [
        "\n",
        "stacking...  75  percentage: 74.2574257426%"
       ]
      },
      {
       "output_type": "stream",
       "stream": "stdout",
       "text": [
        "\n",
        "stacking...  76  percentage: 75.2475247525%"
       ]
      },
      {
       "output_type": "stream",
       "stream": "stdout",
       "text": [
        "\n",
        "stacking...  77  percentage: 76.2376237624%"
       ]
      },
      {
       "output_type": "stream",
       "stream": "stdout",
       "text": [
        "\n",
        "stacking...  78  percentage: 77.2277227723%"
       ]
      },
      {
       "output_type": "stream",
       "stream": "stdout",
       "text": [
        "\n",
        "stacking...  79  percentage: 78.2178217822%"
       ]
      },
      {
       "output_type": "stream",
       "stream": "stdout",
       "text": [
        "\n",
        "stacking...  80  percentage: 79.2079207921%"
       ]
      },
      {
       "output_type": "stream",
       "stream": "stdout",
       "text": [
        "\n",
        "stacking...  81  percentage: 80.198019802%"
       ]
      },
      {
       "output_type": "stream",
       "stream": "stdout",
       "text": [
        "\n",
        "stacking...  82  percentage: 81.1881188119%"
       ]
      },
      {
       "output_type": "stream",
       "stream": "stdout",
       "text": [
        "\n",
        "stacking...  83  percentage: 82.1782178218%"
       ]
      },
      {
       "output_type": "stream",
       "stream": "stdout",
       "text": [
        "\n",
        "stacking...  84  percentage: 83.1683168317%"
       ]
      },
      {
       "output_type": "stream",
       "stream": "stdout",
       "text": [
        "\n",
        "stacking...  85  percentage: 84.1584158416%"
       ]
      },
      {
       "output_type": "stream",
       "stream": "stdout",
       "text": [
        "\n",
        "stacking...  86  percentage: 85.1485148515%"
       ]
      },
      {
       "output_type": "stream",
       "stream": "stdout",
       "text": [
        "\n",
        "stacking...  87  percentage: 86.1386138614%"
       ]
      },
      {
       "output_type": "stream",
       "stream": "stdout",
       "text": [
        "\n",
        "stacking...  88  percentage: 87.1287128713%"
       ]
      },
      {
       "output_type": "stream",
       "stream": "stdout",
       "text": [
        "\n",
        "stacking...  89  percentage: 88.1188118812%"
       ]
      },
      {
       "output_type": "stream",
       "stream": "stdout",
       "text": [
        "\n",
        "stacking...  90  percentage: 89.1089108911%"
       ]
      },
      {
       "output_type": "stream",
       "stream": "stdout",
       "text": [
        "\n",
        "stacking...  91  percentage: 90.099009901%"
       ]
      },
      {
       "output_type": "stream",
       "stream": "stdout",
       "text": [
        "\n",
        "stacking...  92  percentage: 91.0891089109%"
       ]
      },
      {
       "output_type": "stream",
       "stream": "stdout",
       "text": [
        "\n",
        "stacking...  93  percentage: 92.0792079208%"
       ]
      },
      {
       "output_type": "stream",
       "stream": "stdout",
       "text": [
        "\n",
        "stacking...  94  percentage: 93.0693069307%"
       ]
      },
      {
       "output_type": "stream",
       "stream": "stdout",
       "text": [
        "\n",
        "stacking...  95  percentage: 94.0594059406%"
       ]
      },
      {
       "output_type": "stream",
       "stream": "stdout",
       "text": [
        "\n",
        "stacking...  96  percentage: 95.0495049505%"
       ]
      },
      {
       "output_type": "stream",
       "stream": "stdout",
       "text": [
        "\n",
        "stacking...  97  percentage: 96.0396039604%"
       ]
      },
      {
       "output_type": "stream",
       "stream": "stdout",
       "text": [
        "\n",
        "stacking...  98  percentage: 97.0297029703%"
       ]
      },
      {
       "output_type": "stream",
       "stream": "stdout",
       "text": [
        "\n",
        "stacking...  99  percentage: 98.0198019802%"
       ]
      },
      {
       "output_type": "stream",
       "stream": "stdout",
       "text": [
        "\n",
        "stacking...  100  percentage: 99.0099009901%"
       ]
      },
      {
       "output_type": "stream",
       "stream": "stdout",
       "text": [
        "\n",
        "stacking...  101  percentage: 100.0%"
       ]
      },
      {
       "output_type": "stream",
       "stream": "stdout",
       "text": [
        "\n"
       ]
      },
      {
       "output_type": "stream",
       "stream": "stdout",
       "text": [
        "codebook created\n"
       ]
      }
     ],
     "prompt_number": 8
    },
    {
     "cell_type": "heading",
     "level": 3,
     "metadata": {},
     "source": [
      "Feature quantization"
     ]
    },
    {
     "cell_type": "markdown",
     "metadata": {},
     "source": [
      "This section shows the quantization of features. First we load the codebook calculated from SIFT features and later, we quantize using it"
     ]
    },
    {
     "cell_type": "code",
     "collapsed": false,
     "input": [
      "# initialize parallelism\n",
      "pool = Pool(4)"
     ],
     "language": "python",
     "metadata": {},
     "outputs": [],
     "prompt_number": 198
    },
    {
     "cell_type": "code",
     "collapsed": false,
     "input": [
      "#create path for features quantized\n",
      "path_folder_features_train = experiment_folder + '/features_train/'\n",
      "path_folder_features_test = experiment_folder + '/features_test/'\n",
      "\n",
      "# load codebook\n",
      "k_means = load_object(path_codebook)\n",
      "print k_means.cluster_centers_.shape\n",
      "\n",
      "if not os.path.exists(path_folder_features_train):\n",
      "    os.makedirs(path_folder_features_train)\n",
      "\n",
      "    # load data training and quantize features\n",
      "    list_text = get_items_txt(path_files_train)\n",
      "    list_replicate = [path_folder_features_train]*(len(list_text))\n",
      "    list_kmeans = [k_means]*(len(list_text))\n",
      "    list_to_use = zip(list_text, list_replicate, list_kmeans)\n",
      "    pool.map(feature_quantization, list_to_use)\n",
      "else:\n",
      "    print 'folder ==> ' + str(path_folder_features_train) + ' already exists  skipping feature quantization training...'\n",
      "    \n",
      "if not os.path.exists(path_folder_features_test):\n",
      "    os.makedirs(path_folder_features_test)\n",
      "    \n",
      "    # load data testing and quantize features\n",
      "    list_text = get_items_txt(path_files_test)\n",
      "    list_replicate = [path_folder_features_test]*(len(list_text))\n",
      "    list_kmeans = [k_means]*(len(list_text))\n",
      "    list_to_use = zip(list_text, list_replicate, list_kmeans)\n",
      "    pool.map(feature_quantization, list_to_use)    \n",
      "else:\n",
      "    print 'folder ==> ' + str(path_folder_features_test) + ' already exists skipping feature quantization testing...'"
     ],
     "language": "python",
     "metadata": {},
     "outputs": [
      {
       "output_type": "stream",
       "stream": "stdout",
       "text": [
        "(300, 128)\n",
        "folder ==> ./experiment_30_c300_scale_300/features_train/ already exists  skipping feature quantization training...\n",
        "folder ==> ./experiment_30_c300_scale_300/features_test/ already exists skipping feature quantization testing...\n"
       ]
      }
     ],
     "prompt_number": 199
    },
    {
     "cell_type": "heading",
     "level": 2,
     "metadata": {},
     "source": [
      "Classification"
     ]
    },
    {
     "cell_type": "code",
     "collapsed": false,
     "input": [
      "# stack all training samples in one variable\n",
      "\n",
      "path_folder_features_train = experiment_folder + '/features_train/'\n",
      "path_folder_features_test = experiment_folder + '/features_test/'\n",
      "classes = os.listdir(path_folder_features_train)\n",
      "features_train = np.empty(shape=[0,k_clusters])\n",
      "count_label = 1\n",
      "labels_train = []\n",
      "labels_test = []\n",
      "\n",
      "print 'Loading features... '\n",
      "for category in classes:\n",
      "    path_category = path_folder_features_train + category + '/'\n",
      "    all_files = os.listdir(path_category)\n",
      "    for histogram_name in all_files:\n",
      "        path_to_load = path_category + histogram_name\n",
      "        var = sio.loadmat(path_to_load)\n",
      "        array_to_stack = var['bow']\n",
      "        features_train = np.vstack([features_train, array_to_stack])\n",
      "        labels_train.append(count_label)\n",
      "    count_label += 1\n",
      "\n",
      "'''\n",
      "path_category = path_folder_features_test + 'BACKGROUND_Google' + '/'\n",
      "all_files = os.listdir(path_category)\n",
      "for histogram_name in all_files:\n",
      "    path_to_load = path_category + histogram_name\n",
      "    var = sio.loadmat(path_to_load)\n",
      "    array_to_stack = var['bow']\n",
      "    features_train = np.vstack([features_train, array_to_stack])\n",
      "    labels_train.append(count_label)\n",
      "'''\n",
      "# stack all testing samples in one variable\n",
      "features_test = np.empty(shape=[0,k_clusters])\n",
      "count_label = 1\n",
      "for category in classes:\n",
      "    path_category = path_folder_features_test + category + '/'\n",
      "    all_files = os.listdir(path_category)\n",
      "    for histogram_name in all_files:\n",
      "        path_to_load = path_category + histogram_name\n",
      "        var = sio.loadmat(path_to_load)\n",
      "        array_to_stack = var['bow']\n",
      "        features_test = np.vstack([features_test, array_to_stack])\n",
      "        labels_test.append(count_label)\n",
      "    count_label += 1"
     ],
     "language": "python",
     "metadata": {},
     "outputs": [
      {
       "output_type": "stream",
       "stream": "stdout",
       "text": [
        "Loading features... \n"
       ]
      }
     ],
     "prompt_number": 7
    },
    {
     "cell_type": "code",
     "collapsed": false,
     "input": [
      "flag_classifier = False\n",
      "number_limit = max(labels_train)+1\n",
      "quantity_class = []\n",
      "test_labels = []\n",
      "if flag_classifier:\n",
      "    #Training on svm classifier\n",
      "    print 'Training... '\n",
      "    list_clasifier = []\n",
      "    \n",
      "    print number_limit\n",
      "    for index_class in range(0,number_limit):\n",
      "        labels = []\n",
      "        for item in labels_train:\n",
      "            if item != index_class:\n",
      "                labels.append(0)\n",
      "            else:\n",
      "                labels.append(1)\n",
      "        labels_nd = np.array(labels)\n",
      "        #pos = np.sum(labels_nd)\n",
      "        #total = len(labels)\n",
      "        #neg = total -pos\n",
      "        #w = (float(neg))/pos\n",
      "        #li_w = [w]*total\n",
      "        clasifier = svm.LinearSVC(penalty='l2', loss='l2', dual=False, tol=0.0001, C=0.00001, multi_class='ovr', fit_intercept=True, intercept_scaling=1, class_weight='auto', verbose=0, random_state=None)\n",
      "        labels_nd = np.transpose(labels_nd)\n",
      "        clasifier.fit(features_train, labels)\n",
      "        list_clasifier.append(clasifier)\n",
      "        print 'Testing... '\n",
      "    dec_test_values = np.empty(shape=[(len(labels_test))])\n",
      "    for index_class in range(0,number_limit):\n",
      "        count_class = 0\n",
      "        for item in labels_test:\n",
      "            if item != index_class:\n",
      "                test_labels.append(0)\n",
      "            else:\n",
      "                test_labels.append(1)\n",
      "                count_class += 1\n",
      "        quantity_class.append(count_class)\n",
      "        pred_label = list_clasifier[index_class].predict(features_test)\n",
      "        dec_values = list_clasifier[index_class].decision_function(features_test)\n",
      "        dec_test_values = np.vstack([dec_test_values, dec_values])\n",
      "    dec_test_values =  np.transpose(dec_test_values)\n",
      "    print dec_test_values.shape\n",
      "    pred_labels = np.argmax(dec_test_values, axis = 1)\n",
      "else:\n",
      "    for index_class in range(1,number_limit):\n",
      "        count_class = 0\n",
      "        for item in labels_test:\n",
      "            if item != index_class:\n",
      "                test_labels.append(0)\n",
      "            else:\n",
      "                test_labels.append(1)\n",
      "                count_class += 1\n",
      "        quantity_class.append(count_class)\n",
      "    pred_labels = OneVsRestClassifier(svm.LinearSVC()).fit(features_train, labels_train).predict(features_test)"
     ],
     "language": "python",
     "metadata": {},
     "outputs": [],
     "prompt_number": 11
    },
    {
     "cell_type": "code",
     "collapsed": false,
     "input": [],
     "language": "python",
     "metadata": {},
     "outputs": [],
     "prompt_number": 11
    },
    {
     "cell_type": "code",
     "collapsed": false,
     "input": [],
     "language": "python",
     "metadata": {},
     "outputs": [],
     "prompt_number": 11
    },
    {
     "cell_type": "code",
     "collapsed": false,
     "input": [
      "labels_test = np.array(labels_test)\n",
      "\n",
      "print pred_labels.shape\n",
      "print labels_test.shape\n",
      "cm = confusion_matrix(labels_test, pred_labels)\n",
      "#for x in range(1,len(quantity_class)+1):\n",
      " #   num = len(np.where(labels_test == x)[0])\n",
      " #   normalized_cm[x-1][:] = cm[x-1][:]/(float(num))\n",
      "\n",
      "normalized_cm = cm.astype('float') / cm.sum(axis=1)\n",
      "print 'Performance1: ' + str(((np.sum(normalized_cm.diagonal()))*100/(number_limit-1)))\n",
      "#print 'Performance2: ' + str((np.sum((pred_labels == labels_test)))*100/(float(labels_test.shape[0])))\n",
      "#print 'Performance3: ' + str(((100*(np.sum(cm.diagonal())))/(float(labels_test.shape[0]))))\n",
      "plt.matshow(normalized_cm)\n",
      "#plt.matshow(cm)\n",
      "plt.title('Confusion matrix')\n",
      "plt.colorbar()\n",
      "plt.ylabel('True label')\n",
      "plt.xlabel('Predicted label')\n",
      "plt.show()\n",
      "plt.savefig('foo.png')"
     ],
     "language": "python",
     "metadata": {},
     "outputs": [
      {
       "output_type": "stream",
       "stream": "stdout",
       "text": [
        "(6354,)\n",
        "(6354,)\n",
        "Performance1: 20.085673878\n",
        "Performance2: 26.1252754171\n",
        "Performance3: 26.1252754171\n"
       ]
      },
      {
       "metadata": {},
       "output_type": "display_data",
       "png": "[encoded data removed]",
       "text": [
        "<matplotlib.figure.Figure at 0x7f0f7a312e10>"
       ]
      },
      {
       "metadata": {},
       "output_type": "display_data",
       "text": [
        "<matplotlib.figure.Figure at 0x7f0f7a338090>"
       ]
      }
     ],
     "prompt_number": 13
    },
    {
     "cell_type": "code",
     "collapsed": false,
     "input": [
      "\n",
      "print len(np.where(np.array([1,2,1])==np.array([5]))[0])\n",
      "print number_limit"
     ],
     "language": "python",
     "metadata": {},
     "outputs": [
      {
       "output_type": "stream",
       "stream": "stdout",
       "text": [
        "0\n",
        "102\n"
       ]
      }
     ],
     "prompt_number": 163
    },
    {
     "cell_type": "code",
     "collapsed": false,
     "input": [
      "print np.sum(np.array([1,2,1,100,100,100])==np.array([1,100,1,2,2,2]))"
     ],
     "language": "python",
     "metadata": {},
     "outputs": [
      {
       "output_type": "stream",
       "stream": "stdout",
       "text": [
        "2\n"
       ]
      }
     ],
     "prompt_number": 132
    },
    {
     "cell_type": "code",
     "collapsed": false,
     "input": [
      "x, b =np.histogram(np.array([1,1,1,1,2,2]),bins = [1])\n",
      "print len(np.array([1,2,1,1]))\n",
      "print classes"
     ],
     "language": "python",
     "metadata": {},
     "outputs": [
      {
       "output_type": "stream",
       "stream": "stdout",
       "text": [
        "4\n",
        "['ant', 'lotus', 'crocodile', 'sea_horse', 'accordion', 'ewer', 'buddha', 'wild_cat', 'lobster', 'strawberry', 'gramophone', 'metronome', 'brontosaurus', 'kangaroo', 'grand_piano', 'pigeon', 'scissors', 'bass', 'trilobite', 'rhino', 'crocodile_head', 'wrench', 'windsor_chair', 'bonsai', 'chandelier', 'soccer_ball', 'octopus', 'Faces', 'chair', 'inline_skate', 'wheelchair', 'gerenuk', 'watch', 'dragonfly', 'headphone', 'dalmatian', 'llama', 'okapi', 'euphonium', 'crayfish', 'snoopy', 'cup', 'electric_guitar', 'water_lilly', 'pagoda', 'platypus', 'cougar_body', 'ibis', 'umbrella', 'binocular', 'dollar_bill', 'ferry', 'pizza', 'dolphin', 'menorah', 'mandolin', 'ketch', 'ceiling_fan', 'cougar_face', 'mayfly', 'brain', 'schooner', 'pyramid', 'crab', 'Leopards', 'camera', 'flamingo_head', 'flamingo', 'Faces_easy', 'garfield', 'lamp', 'airplanes', 'emu', 'barrel', 'joshua_tree', 'anchor', 'revolver', 'Motorbikes', 'tick', 'rooster', 'stegosaurus', 'minaret', 'helicopter', 'butterfly', 'hedgehog', 'nautilus', 'starfish', 'sunflower', 'panda', 'stop_sign', 'yin_yang', 'hawksbill', 'beaver', 'saxophone', 'cannon', 'car_side', 'elephant', 'stapler', 'scorpion', 'cellphone', 'laptop']\n"
       ]
      }
     ],
     "prompt_number": 166
    },
    {
     "cell_type": "code",
     "collapsed": false,
     "input": [
      "print number_limit"
     ],
     "language": "python",
     "metadata": {},
     "outputs": [
      {
       "output_type": "stream",
       "stream": "stdout",
       "text": [
        "102\n"
       ]
      }
     ],
     "prompt_number": 212
    },
    {
     "cell_type": "code",
     "collapsed": false,
     "input": [],
     "language": "python",
     "metadata": {},
     "outputs": []
    }
   ],
   "metadata": {}
  }
 ]
}