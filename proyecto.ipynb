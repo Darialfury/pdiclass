{
 "metadata": {
  "name": "",
  "signature": "sha256:7ce1ab875e395db5fcbc7bdf4bb9a2710d9a82e5c42e6caed99bbcb1b479e996"
 },
 "nbformat": 3,
 "nbformat_minor": 0,
 "worksheets": [
  {
   "cells": [
    {
     "cell_type": "heading",
     "level": 1,
     "metadata": {},
     "source": [
      "Proyect object recognition"
     ]
    },
    {
     "cell_type": "code",
     "collapsed": false,
     "input": [
      "# set imports\n",
      "import cv2\n",
      "import cPickle as pickle\n",
      "import matplotlib.pyplot as plt\n",
      "import numpy as np\n",
      "import os\n",
      "import scipy.io as sio\n",
      "import matplotlib.pyplot as plt\n",
      "import multiprocessing\n",
      "import random\n",
      "\n",
      "\n",
      "from multiprocessing import Pool\n",
      "from sklearn.metrics import confusion_matrix\n",
      "from sklearn.cluster import KMeans\n",
      "from sklearn.cross_validation import train_test_split\n",
      "from sklearn import svm\n",
      "\n",
      "\n",
      "%matplotlib inline"
     ],
     "language": "python",
     "metadata": {},
     "outputs": [],
     "prompt_number": 1
    },
    {
     "cell_type": "code",
     "collapsed": false,
     "input": [
      "#Functions to use\n",
      "\n",
      "# get all the lines of txt file and save them in a list\n",
      "def get_items_txt(txt_name):\n",
      "    lines_txt = open(txt_name, 'r')\n",
      "    list_text = []\n",
      "    for line in lines_txt:\n",
      "        newline = line.split('\\n')[0]\n",
      "        list_text.append(newline)\n",
      "    return list_text\n",
      "\n",
      "#save and object\n",
      "def save_object(obj, filename):\n",
      "    with open(filename, 'wb') as output:\n",
      "        pickle.dump(obj, output, -1)\n",
      "\n",
      "#load an object\n",
      "def load_object(filename):\n",
      "    with open(filename, 'rb') as input:\n",
      "        obj = pickle.load(input)\n",
      "    return obj\n",
      "\n",
      "def feature_quantization((file_mat, path, kmeans_object)):\n",
      "    folder = file_mat.split('/')[2]\n",
      "    name = file_mat.split('/')[3]\n",
      "    path_fq = path + folder + '/'\n",
      "    if not os.path.exists(path_fq):\n",
      "        os.makedirs(path_fq)\n",
      "    filename = path_fq + 'feature_' + name\n",
      "    var = sio.loadmat(file_mat)\n",
      "    array_to_stack = var['s_desc']\n",
      "    features = kmeans_object.predict(array_to_stack)\n",
      "    visual_words, _ = np.histogram(features, bins = k_clusters, range=(0, k_clusters -1))\n",
      "    sio.savemat(filename, {'bow': visual_words})"
     ],
     "language": "python",
     "metadata": {},
     "outputs": [],
     "prompt_number": 2
    },
    {
     "cell_type": "heading",
     "level": 3,
     "metadata": {},
     "source": [
      "Features extraction"
     ]
    },
    {
     "cell_type": "markdown",
     "metadata": {},
     "source": [
      "This section compute sift descriptor with each image of the dataset. For each image exists a descriptor in a folder called \"images_sift\""
     ]
    },
    {
     "cell_type": "code",
     "collapsed": false,
     "input": [
      "# Creating path for storing sift features\n",
      "newpath = r'./images_sift/'\n",
      "if not os.path.exists(newpath): os.makedirs(newpath)"
     ],
     "language": "python",
     "metadata": {},
     "outputs": [],
     "prompt_number": 3
    },
    {
     "cell_type": "code",
     "collapsed": false,
     "input": [
      "# save in a list all folders of the dataset\n",
      "path_dataset = './101_ObjectCategories/'\n",
      "lstring_folders = os.listdir(path_dataset)\n"
     ],
     "language": "python",
     "metadata": {},
     "outputs": [],
     "prompt_number": 4
    },
    {
     "cell_type": "code",
     "collapsed": false,
     "input": [
      "#feature extraction of all images\n",
      "\n",
      "#search for each folder of the dataset\n",
      "for folder in lstring_folders:\n",
      "    path_folder = path_dataset + folder + '/'\n",
      "    list_images = os.listdir(path_folder)\n",
      "    list_images.sort()\n",
      "    path2_folder = newpath + folder\n",
      "    if not os.path.exists(path2_folder):\n",
      "        os.makedirs(path2_folder)\n",
      "        \n",
      "        # search for each image of the folder and compute sift\n",
      "        for image in list_images:\n",
      "            path_image_load = path_folder + '/' + image\n",
      "            x = cv2.imread(path_image_load)\n",
      "            y = cv2.cvtColor(x,cv2.COLOR_BGR2GRAY)\n",
      "            sift = cv2.SIFT()\n",
      "            kp, des = sift.detectAndCompute(y,None)\n",
      "\n",
      "            # If descriptor are none, don't save it\n",
      "            if des is not None:\n",
      "                x2 = str(image.split('.',1)[0])\n",
      "                path2 = path2_folder + '/' + x2 + '.mat'\n",
      "                sio.savemat(path2, {'s_desc': des})\n",
      "    else:\n",
      "        print 'folder ' + str(folder) + ' already exists'"
     ],
     "language": "python",
     "metadata": {},
     "outputs": [
      {
       "output_type": "stream",
       "stream": "stdout",
       "text": [
        "folder ant already exists\n",
        "folder lotus already exists\n",
        "folder crocodile already exists"
       ]
      },
      {
       "output_type": "stream",
       "stream": "stdout",
       "text": [
        "\n",
        "folder sea_horse already exists\n",
        "folder accordion already exists"
       ]
      },
      {
       "output_type": "stream",
       "stream": "stdout",
       "text": [
        "\n",
        "folder ewer already exists\n",
        "folder buddha already exists\n",
        "folder wild_cat already exists\n",
        "folder lobster already exists\n",
        "folder strawberry already exists"
       ]
      },
      {
       "output_type": "stream",
       "stream": "stdout",
       "text": [
        "\n",
        "folder gramophone already exists\n",
        "folder metronome already exists\n",
        "folder brontosaurus already exists\n",
        "folder kangaroo already exists\n",
        "folder grand_piano already exists\n",
        "folder pigeon already exists\n",
        "folder scissors already exists\n",
        "folder bass already exists\n",
        "folder trilobite already exists\n",
        "folder rhino already exists\n",
        "folder crocodile_head already exists\n",
        "folder wrench already exists\n",
        "folder windsor_chair already exists\n",
        "folder bonsai already exists\n",
        "folder chandelier already exists\n",
        "folder soccer_ball already exists\n",
        "folder octopus already exists\n",
        "folder Faces already exists\n",
        "folder chair already exists\n",
        "folder inline_skate already exists\n",
        "folder wheelchair already exists\n",
        "folder gerenuk already exists\n",
        "folder watch already exists\n",
        "folder dragonfly already exists\n",
        "folder headphone already exists\n",
        "folder dalmatian already exists\n",
        "folder llama already exists\n",
        "folder okapi already exists\n",
        "folder euphonium already exists\n",
        "folder crayfish already exists\n",
        "folder snoopy already exists\n",
        "folder cup already exists"
       ]
      },
      {
       "output_type": "stream",
       "stream": "stdout",
       "text": [
        "\n",
        "folder electric_guitar already exists\n",
        "folder water_lilly already exists\n",
        "folder pagoda already exists\n",
        "folder platypus already exists\n",
        "folder cougar_body already exists\n",
        "folder ibis already exists\n",
        "folder umbrella already exists\n",
        "folder binocular already exists\n",
        "folder dollar_bill already exists\n",
        "folder ferry already exists\n",
        "folder pizza already exists\n",
        "folder dolphin already exists\n",
        "folder menorah already exists\n",
        "folder mandolin already exists\n",
        "folder ketch already exists\n",
        "folder ceiling_fan already exists\n",
        "folder cougar_face already exists\n",
        "folder mayfly already exists\n",
        "folder brain already exists\n",
        "folder schooner already exists\n",
        "folder pyramid already exists\n",
        "folder crab already exists\n",
        "folder Leopards already exists\n",
        "folder BACKGROUND_Google already exists\n",
        "folder camera already exists\n",
        "folder flamingo_head already exists\n",
        "folder flamingo already exists\n",
        "folder Faces_easy already exists\n",
        "folder garfield already exists\n",
        "folder lamp already exists\n",
        "folder airplanes already exists\n",
        "folder emu already exists\n",
        "folder barrel already exists\n",
        "folder joshua_tree already exists\n",
        "folder anchor already exists\n",
        "folder revolver already exists\n",
        "folder Motorbikes already exists\n",
        "folder tick already exists\n",
        "folder rooster already exists\n",
        "folder stegosaurus already exists\n",
        "folder minaret already exists\n",
        "folder helicopter already exists\n",
        "folder butterfly already exists\n",
        "folder hedgehog already exists\n",
        "folder nautilus already exists\n",
        "folder starfish already exists\n",
        "folder sunflower already exists\n",
        "folder panda already exists"
       ]
      },
      {
       "output_type": "stream",
       "stream": "stdout",
       "text": [
        "\n",
        "folder stop_sign already exists\n",
        "folder yin_yang already exists\n",
        "folder hawksbill already exists\n",
        "folder beaver already exists\n",
        "folder saxophone already exists\n",
        "folder cannon already exists\n",
        "folder car_side already exists\n",
        "folder elephant already exists\n",
        "folder stapler already exists\n",
        "folder scorpion already exists\n",
        "folder cellphone already exists\n",
        "folder laptop already exists\n"
       ]
      }
     ],
     "prompt_number": 5
    },
    {
     "cell_type": "heading",
     "level": 3,
     "metadata": {},
     "source": [
      "Clustering with K-means"
     ]
    },
    {
     "cell_type": "markdown",
     "metadata": {},
     "source": [
      "This section compute K-means with a specified k"
     ]
    },
    {
     "cell_type": "code",
     "collapsed": false,
     "input": [
      "k_clusters = 100          # number of groups to cluster all sift features\n",
      "percentage_test = 0.30    # Test data fraction for the system\n",
      "flag = True\n",
      "\n",
      "path_dataset = './101_ObjectCategories/'\n",
      "lstring_folders = os.listdir(path_dataset)\n",
      "\n",
      "experiment_folder = './experiment_' + str(int(percentage_test*100))+ '_c' + str(k_clusters)\n",
      "path_codebook = experiment_folder + '/code_book.pkl'\n",
      "path_files_train = experiment_folder + '/path_files_train.txt'\n",
      "path_files_test = experiment_folder + '/path_files_test.txt'\n",
      "count_train = 0.0\n",
      "\n",
      "if not os.path.exists(experiment_folder):\n",
      "    os.makedirs(experiment_folder)\n",
      "else:\n",
      "    print 'folder ==> ' + str(experiment_folder) + ' already exists'\n",
      "files_training = []\n",
      "files_test = []"
     ],
     "language": "python",
     "metadata": {},
     "outputs": [
      {
       "output_type": "stream",
       "stream": "stdout",
       "text": [
        "folder ==> ./experiment_30_c100 already exists\n"
       ]
      }
     ],
     "prompt_number": 3
    },
    {
     "cell_type": "code",
     "collapsed": false,
     "input": [
      "#split data for training and testing\n",
      "for folder in lstring_folders:\n",
      "    if folder != 'BACKGROUND_Google':\n",
      "        path_folder = newpath + folder + '/'\n",
      "        list_descriptors = os.listdir(path_folder)\n",
      "\n",
      "        # list all files of the class  \n",
      "        files_in_class = []\n",
      "        for descriptor_file in list_descriptors:\n",
      "            path_descriptor_class = path_folder + descriptor_file\n",
      "            files_in_class.append(path_descriptor_class)\n",
      "\n",
      "        #split files of the class\n",
      "        a_train, a_test = train_test_split(files_in_class, test_size = percentage_test)\n",
      "        files_training.append(a_train)\n",
      "        files_test.append(a_test)\n",
      "    else:\n",
      "        path_folder = newpath + folder + '/'\n",
      "        list_descriptors = os.listdir(path_folder)\n",
      "\n",
      "        # list all files of the class  \n",
      "        files_in_class = []\n",
      "        for descriptor_file in list_descriptors:\n",
      "            path_descriptor_class = path_folder + descriptor_file\n",
      "            files_in_class.append(path_descriptor_class)\n",
      "        files_test.append(files_in_class)"
     ],
     "language": "python",
     "metadata": {},
     "outputs": [],
     "prompt_number": 29
    },
    {
     "cell_type": "code",
     "collapsed": false,
     "input": [
      "#save list of files for training and testing\n",
      "if not os.path.isfile(path_files_train):\n",
      "    thefile = open(path_files_train, 'w')\n",
      "    for classe in files_training:\n",
      "        for file_mat in classe:\n",
      "            count_train += 1.0\n",
      "            thefile.write(\"%s\\n\" % file_mat)\n",
      "    thefile.close()\n",
      "\n",
      "    thefile = open(path_files_test, 'w')\n",
      "    for classe in files_test:\n",
      "        for file_mat in classe:\n",
      "            thefile.write(\"%s\\n\" % file_mat)\n",
      "    thefile.close()\n",
      "else:\n",
      "    print 'list of files created'"
     ],
     "language": "python",
     "metadata": {},
     "outputs": [],
     "prompt_number": 30
    },
    {
     "cell_type": "code",
     "collapsed": false,
     "input": [
      "#compute codebook\n",
      "max_samples = 5000;\n",
      "if not os.path.isfile(path_codebook):\n",
      "    progress = 0.0\n",
      "    index = 0\n",
      "    path_features_to_codebook =  experiment_folder + '/k_groups'\n",
      "    previous_centers = np.empty(shape=[0,128])\n",
      "    list_sift = np.empty(shape=[0,128])\n",
      "\n",
      "    # search for each descriptor of the folder and stack it \n",
      "    for classes in files_training:\n",
      "        temp_sift = np.empty(shape=[0,128])\n",
      "        for descriptor_file in classes:\n",
      "            path_descriptor_load = descriptor_file\n",
      "            #print path_descriptor_load\n",
      "            var = sio.loadmat(path_descriptor_load)\n",
      "            array_to_stack = var['s_desc']\n",
      "            #print array_to_stack\n",
      "            temp_sift = np.vstack([temp_sift, array_to_stack])\n",
      "            progress += 1.0\n",
      "        rows, _ = temp_sift.shape\n",
      "        if max_samples < rows:\n",
      "            definitive_sift = random.sample(temp_sift,max_samples)\n",
      "        else:\n",
      "            definitive_sift = temp_sift\n",
      "        index += 1\n",
      "        list_sift = np.vstack([list_sift, definitive_sift])\n",
      "        print 'stacking...  ' + str(index)+ '  percentage: ' + str((float(progress/count_train))*100) + '%'\n",
      "    k_means = KMeans(init = 'k-means++', n_clusters = k_clusters, n_jobs = -2, n_init=10)\n",
      "    k_means.fit(list_sift)\n",
      "    codebook = k_means\n",
      "    save_object(codebook, path_codebook)\n",
      "    print 'codebook created'\n",
      "else:\n",
      "    print 'Skipping... codebook computation'"
     ],
     "language": "python",
     "metadata": {},
     "outputs": [
      {
       "output_type": "stream",
       "stream": "stdout",
       "text": [
        "Skipping... codebook computation\n"
       ]
      }
     ],
     "prompt_number": 36
    },
    {
     "cell_type": "heading",
     "level": 3,
     "metadata": {},
     "source": [
      "Feature quantization"
     ]
    },
    {
     "cell_type": "markdown",
     "metadata": {},
     "source": [
      "This section shows the quantization of features. First we load the codebook calculated from SIFT features and later, we quantize using it"
     ]
    },
    {
     "cell_type": "code",
     "collapsed": false,
     "input": [
      "# initialize parallelism\n",
      "pool = Pool(4)"
     ],
     "language": "python",
     "metadata": {},
     "outputs": [],
     "prompt_number": 14
    },
    {
     "cell_type": "code",
     "collapsed": false,
     "input": [
      "#create path for features quantized\n",
      "path_folder_features_train = experiment_folder + '/features_train/'\n",
      "path_folder_features_test = experiment_folder + '/features_test/'\n",
      "\n",
      "# load codebook\n",
      "k_means = load_object(path_codebook)\n",
      "print k_means.cluster_centers_.shape\n",
      "\n",
      "if not os.path.exists(path_folder_features_train):\n",
      "    os.makedirs(path_folder_features_train)\n",
      "\n",
      "    # load data training and quantize features\n",
      "    list_text = get_items_txt(path_files_train)\n",
      "    list_replicate = [path_folder_features_train]*(len(list_text))\n",
      "    list_kmeans = [k_means]*(len(list_text))\n",
      "    list_to_use = zip(list_text, list_replicate, list_kmeans)\n",
      "    pool.map(feature_quantization, list_to_use)\n",
      "else:\n",
      "    print 'folder ==> ' + str(path_folder_features_train) + ' already exists  skipping feature quantization training...'\n",
      "    \n",
      "if not os.path.exists(path_folder_features_test):\n",
      "    os.makedirs(path_folder_features_test)\n",
      "    \n",
      "    # load data testing and quantize features\n",
      "    list_text = get_items_txt(path_files_test)\n",
      "    list_replicate = [path_folder_features_test]*(len(list_text))\n",
      "    list_kmeans = [k_means]*(len(list_text))\n",
      "    list_to_use = zip(list_text, list_replicate, list_kmeans)\n",
      "    pool.map(feature_quantization, list_to_use)    \n",
      "else:\n",
      "    print 'folder ==> ' + str(path_folder_features_test) + ' already exists skipping feature quantization testing...'"
     ],
     "language": "python",
     "metadata": {},
     "outputs": [
      {
       "output_type": "stream",
       "stream": "stdout",
       "text": [
        "(100, 128)\n"
       ]
      }
     ],
     "prompt_number": 15
    },
    {
     "cell_type": "heading",
     "level": 2,
     "metadata": {},
     "source": [
      "Classification"
     ]
    },
    {
     "cell_type": "code",
     "collapsed": false,
     "input": [
      "# stack all training samples in one variable\n",
      "\n",
      "path_folder_features_train = experiment_folder + '/features_train/'\n",
      "path_folder_features_test = experiment_folder + '/features_test/'\n",
      "classes = os.listdir(path_folder_features_train)\n",
      "features_train = np.empty(shape=[0,100])\n",
      "count_label = 0\n",
      "labels_train = []\n",
      "labels_test = []\n",
      "\n",
      "print 'Loading features... '\n",
      "for category in classes:\n",
      "    path_category = path_folder_features_train + category + '/'\n",
      "    all_files = os.listdir(path_category)\n",
      "    for histogram_name in all_files:\n",
      "        path_to_load = path_category + histogram_name\n",
      "        var = sio.loadmat(path_to_load)\n",
      "        array_to_stack = var['bow']\n",
      "        features_train = np.vstack([features_train, array_to_stack])\n",
      "        labels_train.append(count_label)\n",
      "    count_label += 1\n",
      "        \n",
      "path_category = path_folder_features_test + 'BACKGROUND_Google' + '/'\n",
      "all_files = os.listdir(path_category)\n",
      "for histogram_name in all_files:\n",
      "    path_to_load = path_category + histogram_name\n",
      "    var = sio.loadmat(path_to_load)\n",
      "    array_to_stack = var['bow']\n",
      "    features_train = np.vstack([features_train, array_to_stack])\n",
      "    labels_train.append(count_label)\n",
      "\n",
      "# stack all testing samples in one variable\n",
      "features_test = np.empty(shape=[0,100])\n",
      "count_label = 0\n",
      "for category in classes:\n",
      "    path_category = path_folder_features_test + category + '/'\n",
      "    all_files = os.listdir(path_category)\n",
      "    for histogram_name in all_files:\n",
      "        path_to_load = path_category + histogram_name\n",
      "        var = sio.loadmat(path_to_load)\n",
      "        array_to_stack = var['bow']\n",
      "        features_test = np.vstack([features_test, array_to_stack])\n",
      "        labels_test.append(count_label)\n",
      "    count_label += 1"
     ],
     "language": "python",
     "metadata": {},
     "outputs": [
      {
       "output_type": "stream",
       "stream": "stdout",
       "text": [
        "Loading features... \n"
       ]
      }
     ],
     "prompt_number": 113
    },
    {
     "cell_type": "code",
     "collapsed": false,
     "input": [
      "#Training on svm classifier\n",
      "print 'Training... '\n",
      "list_clasifier = []\n",
      "number_limit = max(labels_train)-1\n",
      "print number_limit\n",
      "for index_class in range(0,number_limit):\n",
      "    labels = []\n",
      "    for item in labels_train:\n",
      "        if item != index_class:\n",
      "            labels.append(0)\n",
      "        else:\n",
      "            labels.append(1)\n",
      "    #labels_nd = np.array(labels)\n",
      "    #pos = np.sum(labels_nd)\n",
      "    #total = len(labels)\n",
      "    #neg = total -pos\n",
      "    #w = (float(neg))/pos\n",
      "    #li_w = [w]*total\n",
      "    clasifier = svm.LinearSVC(penalty='l2', loss='l2', dual=False, tol=0.0001, C=0.001, multi_class='ovr', fit_intercept=True, intercept_scaling=1, class_weight='auto', verbose=0, random_state=None)\n",
      "    labels_nd = np.transpose(labels_nd)\n",
      "    clasifier.fit(features_train, labels)\n",
      "    list_clasifier.append(clasifier)"
     ],
     "language": "python",
     "metadata": {},
     "outputs": [
      {
       "output_type": "stream",
       "stream": "stdout",
       "text": [
        "Training... \n",
        "100\n"
       ]
      }
     ],
     "prompt_number": 114
    },
    {
     "cell_type": "code",
     "collapsed": false,
     "input": [
      "print 'Testing... '\n",
      "dec_test_values = np.empty(shape=[(len(labels_test))])\n",
      "quantity_class = []\n",
      "for index_class in range(0,number_limit):\n",
      "    count_class = 0\n",
      "    for item in labels_test:\n",
      "        if item != index_class:\n",
      "            test_labels.append(0)\n",
      "        else:\n",
      "            test_labels.append(1)\n",
      "            count_class += 1\n",
      "    quantity_class.append(count_class)\n",
      "    pred_label = list_clasifier[index_class].predict(features_test)\n",
      "    dec_values = list_clasifier[index_class].decision_function(features_test)\n",
      "    dec_test_values = np.vstack([dec_test_values, dec_values])\n",
      "dec_test_values =  np.transpose(dec_test_values)\n",
      "print dec_test_values.shape"
     ],
     "language": "python",
     "metadata": {},
     "outputs": [
      {
       "output_type": "stream",
       "stream": "stdout",
       "text": [
        "Testing... \n",
        "(2651, 101)"
       ]
      },
      {
       "output_type": "stream",
       "stream": "stdout",
       "text": [
        "\n"
       ]
      }
     ],
     "prompt_number": 111
    },
    {
     "cell_type": "code",
     "collapsed": false,
     "input": [
      "pred_labels = np.argmax(dec_test_values, axis = 1)\n",
      "labels_test = np.array(labels_test)\n",
      "\n",
      "print pred_labels\n",
      "print labels_test\n",
      "print pred_labels.shape\n",
      "print labels_test.shape\n",
      "cm = confusion_matrix(labels_test, pred_labels)\n",
      "normalized_cm = np.empty(shape=(cm.shape))\n",
      "\n",
      "for x in range(0,len(quantity_class)):\n",
      "    normalized_cm[x][:] = (cm[x][:]/(float(quantity_class[x])))*100\n",
      "\n",
      "print 'Performance: ' + str(((np.sum(normalized_cm.diagonal()))/(number_limit)))\n",
      "plt.matshow(normalized_cm)\n",
      "plt.title('Confusion matrix')\n",
      "plt.colorbar()\n",
      "plt.ylabel('True label')\n",
      "plt.xlabel('Predicted label')\n",
      "plt.show()\n",
      "savefig('foo.png')"
     ],
     "language": "python",
     "metadata": {},
     "outputs": [
      {
       "output_type": "stream",
       "stream": "stdout",
       "text": [
        "[ 34  21  73 ...,  72 100  17]\n",
        "[  0   0   0 ..., 100 100 100]\n",
        "(2651,)\n",
        "(2651,)\n",
        "Performance: 0.672619047619\n"
       ]
      },
      {
       "metadata": {},
       "output_type": "display_data",
       "png": "[encoded data removed]",
       "text": [
        "<matplotlib.figure.Figure at 0x7f9a678c4a90>"
       ]
      },
      {
       "ename": "NameError",
       "evalue": "name 'savefig' is not defined",
       "output_type": "pyerr",
       "traceback": [
        "\u001b[1;31m---------------------------------------------------------------------------\u001b[0m\n\u001b[1;31mNameError\u001b[0m                                 Traceback (most recent call last)",
        "\u001b[1;32m<ipython-input-115-c40a059dc8bb>\u001b[0m in \u001b[0;36m<module>\u001b[1;34m()\u001b[0m\n\u001b[0;32m     19\u001b[0m \u001b[0mplt\u001b[0m\u001b[1;33m.\u001b[0m\u001b[0mxlabel\u001b[0m\u001b[1;33m(\u001b[0m\u001b[1;34m'Predicted label'\u001b[0m\u001b[1;33m)\u001b[0m\u001b[1;33m\u001b[0m\u001b[0m\n\u001b[0;32m     20\u001b[0m \u001b[0mplt\u001b[0m\u001b[1;33m.\u001b[0m\u001b[0mshow\u001b[0m\u001b[1;33m(\u001b[0m\u001b[1;33m)\u001b[0m\u001b[1;33m\u001b[0m\u001b[0m\n\u001b[1;32m---> 21\u001b[1;33m \u001b[0msavefig\u001b[0m\u001b[1;33m(\u001b[0m\u001b[1;34m'foo.png'\u001b[0m\u001b[1;33m)\u001b[0m\u001b[1;33m\u001b[0m\u001b[0m\n\u001b[0m",
        "\u001b[1;31mNameError\u001b[0m: name 'savefig' is not defined"
       ]
      }
     ],
     "prompt_number": 115
    },
    {
     "cell_type": "code",
     "collapsed": false,
     "input": [
      "for i in range(0,4):\n",
      "    print i\n",
      "print number_limit"
     ],
     "language": "python",
     "metadata": {},
     "outputs": [
      {
       "output_type": "stream",
       "stream": "stdout",
       "text": [
        "0\n",
        "1\n",
        "2\n",
        "3\n",
        "101\n"
       ]
      }
     ],
     "prompt_number": 70
    },
    {
     "cell_type": "code",
     "collapsed": false,
     "input": [
      "a = np.array([[1,6,1],[2,3,4],[5,2,1]])\n",
      "print np.argmax(a, axis=1)"
     ],
     "language": "python",
     "metadata": {},
     "outputs": [
      {
       "output_type": "stream",
       "stream": "stdout",
       "text": [
        "[1 2 0]\n"
       ]
      }
     ],
     "prompt_number": 91
    },
    {
     "cell_type": "code",
     "collapsed": false,
     "input": [],
     "language": "python",
     "metadata": {},
     "outputs": []
    }
   ],
   "metadata": {}
  }
 ]
}