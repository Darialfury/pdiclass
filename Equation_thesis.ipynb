{
 "metadata": {
  "name": "",
  "signature": "sha256:094fdb15deb771a94c16aec0fd571dfb5fc3cb25c42ed89942641c198edc7a2e"
 },
 "nbformat": 3,
 "nbformat_minor": 0,
 "worksheets": [
  {
   "cells": [
    {
     "cell_type": "heading",
     "level": 1,
     "metadata": {},
     "source": [
      "Primal"
     ]
    },
    {
     "cell_type": "markdown",
     "metadata": {},
     "source": [
      "$\\min_{W, \\xi^m, U} W^{T}W + \\lambda_1 \\sum_m \\xi^{m} + \\lambda_2 \\sum_v U_v$\n",
      "\n",
      "<br>\n",
      "\n",
      "$S_{P^m}(x^m; W) -  S_{P}(x^m; W) \\geq \\Delta(P;P^m) - \\xi_m,  \\forall m, \\forall P \\in \\mathcal{P}^1$\n",
      "\n",
      "$S_{\\hat P}(x^m; W) \\leq U_v,  \\forall \\hat P \\in \\mathcal{P}^v, \\forall v \\in \\mathcal{V}$\n",
      "\n",
      "$U_r \\geq \\gamma U_{c^e_r},  \\forall e \\in 1 \\ldots N, \\forall r \\in \\mathcal{V}$\n",
      "\n",
      "$ \\xi_m \\geq 0,  \\forall m  $ \n"
     ]
    },
    {
     "cell_type": "heading",
     "level": 1,
     "metadata": {},
     "source": [
      "Dual"
     ]
    },
    {
     "cell_type": "markdown",
     "metadata": {},
     "source": [
      "$\\min_{W, \\xi^m, U} W^{T}W + \\lambda_1 \\sum_m \\xi^{m} + \\lambda_2 \\sum_v U_v + \\sum_{m, P} \\beta_{m,P} \\left[ S_{P}(x^m; W) - S_{P^m}(x^m; W) + \\Delta(P;P^m) - \\xi_m \\right] + \\sum_v \\alpha_{v}[S_{\\hat P}(x^m;W) - U_v] + \\sum_r \\alpha_{r}[\\gamma U_{c^e_r} - U_r] - \\sum_m \\alpha_{m} \\xi^{m}$\n"
     ]
    },
    {
     "cell_type": "markdown",
     "metadata": {},
     "source": [
      "1. Se agregan las restricciones, cada una multiplicada por un factor de Lagrange $\\alpha$\n",
      "2. Se deriva el Lagrangiano $L$ con respecto a las variables originales.\n",
      "3. La funci\u00f3n dual es: $\\min_x L(x, \\alpha)$\n",
      "4. La minimizaci\u00f3n con respecto a $x$, se resuelve con $\\frac{\\partial L}{\\partial x} = 0$ para cada variable original $x$.\n",
      "5. Se reemplaza la soluci\u00f3n anterior en el dual, para eliminar las variables originales $x$.\n",
      "6. $\\max_{\\alpha} L(\\alpha)$, con las restricciones $\\alpha \\geq 0$ y las soluciones en (4).\n"
     ]
    },
    {
     "cell_type": "heading",
     "level": 5,
     "metadata": {},
     "source": [
      "Planteamiento numero 1: Se procede a utilizar todas las restricciones "
     ]
    },
    {
     "cell_type": "markdown",
     "metadata": {},
     "source": [
      "$\\frac{\\partial L}{\\partial W} = W + \\sum_{m, P} \\beta_{m,P} \\frac{\\partial [S_{P^m}(x^m; W) -  S_{P}(x^m; W)]}{\\partial W} + \\sum_{v} \\alpha_{v} \\frac{\\partial [S_{\\hat P}(x^m; W)]}{\\partial W}  = 0 $\n",
      "\n",
      "$\\frac{\\partial L}{\\partial U_v} = \\lambda_{2} - \\alpha_{v} - \\alpha_{r}= 0$\n",
      "\n",
      "$\\frac{\\partial L}{\\partial \\xi^m} = \\lambda_{1} - \\beta_{m,P} - \\alpha_{m}= 0$"
     ]
    },
    {
     "cell_type": "markdown",
     "metadata": {},
     "source": [
      "Considerando que"
     ]
    },
    {
     "cell_type": "markdown",
     "metadata": {},
     "source": [
      "$S_{P}(x) = XPW$"
     ]
    },
    {
     "cell_type": "markdown",
     "metadata": {},
     "source": [
      "donde $P$ es una matriz de bordes activos para la ruta P dentro de la ontolog\u00eda, y $X$ es una concatenaci\u00f3n de vectores del vector $x$ se obtiene que"
     ]
    },
    {
     "cell_type": "markdown",
     "metadata": {},
     "source": [
      "$W = \\sum_{m, P} \\beta_{m,P}[XP^m - XP] - \\sum_{v} \\alpha_{v}X \\hat P $\n",
      "\n",
      "$\\lambda_{2} =\\alpha_{v} + \\alpha_{r}$\n",
      "\n",
      "$\\lambda_{1} = \\beta_{m,P} + \\alpha_{m}$"
     ]
    },
    {
     "cell_type": "markdown",
     "metadata": {},
     "source": [
      "Reemplazando las anteriores expresiones en la ecuacion lagrangiana se obtiene la expresi\u00f3n dual dada por:"
     ]
    },
    {
     "cell_type": "markdown",
     "metadata": {},
     "source": [
      "$L(\\beta_{m,P}, \\alpha_{v}, \\alpha_{r}) = \n",
      "[\\sum_{m, P} \\beta_{m,P}[XP^m - XP] - \\sum_{v} \\alpha_{v}X \\hat P]^T\n",
      "[\\sum_{m, P} \\beta_{m,P}[XP^m - XP] - \\sum_{v} \\alpha_{v}X \\hat P] +\n",
      "\\sum_{m, P} \\beta_{m,P}XP(\\sum_{m, P} \\beta_{m,P}[XP^m - XP] - \\sum_{v} \\alpha_{v}X \\hat P) - \n",
      "\\sum_{m, P} \\beta_{m,P}XP_{m}(\\sum_{m, P} \\beta_{m,P}[XP^m - XP] - \\sum_{v} \\alpha_{v}X \\hat P) +\n",
      "\\sum_{m, P} \\beta_{m,P}\\Delta(P;P^m) +\n",
      "\\sum_{m, P} \\beta_{m,P}X \\hat P(\\sum_{m, P} \\beta_{m,P}[XP^m - XP] - \\sum_{v} \\alpha_{v}X \\hat P) +\n",
      "\\sum_{r} \\alpha_{r}U_{c^e_r}$"
     ]
    },
    {
     "cell_type": "markdown",
     "metadata": {},
     "source": [
      "Donde las variables $\\alpha_{m,P}, \\alpha_{v}, \\alpha_{r}$ se encuentran sujetas a las siguientes restricciones"
     ]
    },
    {
     "cell_type": "markdown",
     "metadata": {},
     "source": [
      "$\\alpha_{m} \\geq 0$\n",
      "\n",
      "$\\lambda_{1} \\geq \\beta_{m,P} \\geq 0$\n",
      "\n",
      "$\\alpha_{r} \\geq 0$\n",
      "\n",
      "$\\lambda_{2} \\geq \\alpha_{v} \\geq 0$\n"
     ]
    },
    {
     "cell_type": "markdown",
     "metadata": {},
     "source": [
      "Otra posibilidad"
     ]
    },
    {
     "cell_type": "markdown",
     "metadata": {},
     "source": []
    },
    {
     "cell_type": "heading",
     "level": 5,
     "metadata": {},
     "source": [
      "Planteamiento numero 2: se procede a utilizar las restricciones mas violadas"
     ]
    },
    {
     "cell_type": "markdown",
     "metadata": {},
     "source": [
      "Basicamente consiste en buscar la restricci\u00f3n mas violada para cada una de las restricciones, esto implica la eliminaci\u00f3n de sumatorias manteniendo las mismas restricciones para la formulacion dual "
     ]
    },
    {
     "cell_type": "markdown",
     "metadata": {},
     "source": [
      "$L(\\alpha_{m,P}, \\alpha_{v}, \\alpha_{r}) = \n",
      "[\\beta_{m,P}[XP^m - XP] - \\alpha_{v}X \\hat P]^T\n",
      "[\\beta_{m,P}[XP^m - XP] - \\alpha_{v}X \\hat P] +\n",
      " \\beta_{m,P}XP(\\beta_{m,P}[XP^m - XP] -  \\alpha_{v}X \\hat P) - \n",
      " \\beta_{m,P}XP_{m}(\\beta_{m,P}[XP^m - XP] - \\alpha_{v}X \\hat P) +\n",
      " \\beta_{m,P}\\Delta(P;P^m) +\n",
      " \\beta_{m,P}X \\hat P(\\beta_{m,P}[XP^m - XP] - \\alpha_{v}X \\hat P) +\n",
      " \\alpha_{r}U_{c^e_r}$"
     ]
    },
    {
     "cell_type": "markdown",
     "metadata": {},
     "source": [
      "sujeto a las restricciones anteriores"
     ]
    },
    {
     "cell_type": "markdown",
     "metadata": {},
     "source": [
      "$\\alpha_{m} \\geq 0$\n",
      "\n",
      "$\\lambda_{1} \\geq \\alpha_{m,P} \\geq 0$\n",
      "\n",
      "$\\alpha_{r} \\geq 0$\n",
      "\n",
      "$\\lambda_{2} \\geq \\alpha_{v} \\geq 0$"
     ]
    },
    {
     "cell_type": "code",
     "collapsed": false,
     "input": [],
     "language": "python",
     "metadata": {},
     "outputs": []
    }
   ],
   "metadata": {}
  }
 ]
}